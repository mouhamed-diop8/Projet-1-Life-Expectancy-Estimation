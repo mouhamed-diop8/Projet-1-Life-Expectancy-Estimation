{
 "cells": [
  {
   "cell_type": "code",
   "execution_count": 1,
   "metadata": {},
   "outputs": [],
   "source": [
    "# Import des librairies\n",
    "import pandas as pd  # pandas \n",
    "import numpy as np\n",
    "import matplotlib.pyplot as plt # Pour les graphiques\n",
    "import seaborn as sns # seconde librairie de visualisation\n",
    "# This is to test results\n",
    "from test_helper import Test"
   ]
  },
  {
   "cell_type": "markdown",
   "metadata": {},
   "source": [
    "# TP DATASCIENCE -- INTRODUCTION <a class=\"tocSkip\">"
   ]
  },
  {
   "cell_type": "markdown",
   "metadata": {},
   "source": [
    "Les données que nous allons utiliser ici sont des données en provenance du site [gapminder](https://www.gapminder.org/), qui regorge de données socio-économiques sur l'évolution de la société humaine. Ce site a été créé par Hans Rosling, l'auteur du livre [Factfulness](https://www.amazon.fr/Factfulness-Hans-Rosling/dp/2081427117)\n",
    "\n",
    "*Une question préliminaire au passage : quelle est l'espérance de vie de la population **mondiale** en 2023 ?*\n",
    "\n",
    "- A.   50 years\n",
    "- B.   60 years\n",
    "- C.   70 years\n",
    "\n",
    "Vous devriez pouvoir y répondre à partir des données de ce TP ; faites le... \n",
    "\n",
    "Le début du TP s'inspire d'un [projet datacamp](https://campus.datacamp.com/courses/cleaning-data-in-python/case-study-5). \n",
    "\n",
    "Lors de ce TP, nous aborderons les points suivants :\n",
    "\n",
    "- lecture d'un fichier csv\n",
    "- types des données, comptage, suppression des NA\n",
    "- scatterplots\n",
    "- tidyfication\n",
    "- rassemblement de plusieurs tables (concatenation)\n",
    "- histogrammes\n",
    "- regroupements (groupby)\n",
    "- concatenations de tables suivant une ou plusieurs colonnes\n",
    "- creations de nouvelles variables\n",
    "- analyse des correlations"
   ]
  },
  {
   "cell_type": "markdown",
   "metadata": {
    "toc": true
   },
   "source": [
    "<h1>Table of Contents<span class=\"tocSkip\"></span></h1>\n",
    "<div class=\"toc\"><ul class=\"toc-item\"><li><span><a href=\"#Lecture-des-données-et-première-exploration\" data-toc-modified-id=\"Lecture-des-données-et-première-exploration-1\"><span class=\"toc-item-num\">1&nbsp;&nbsp;</span>Lecture des données et première exploration</a></span></li><li><span><a href=\"#Combiner-des-tables\" data-toc-modified-id=\"Combiner-des-tables-2\"><span class=\"toc-item-num\">2&nbsp;&nbsp;</span>Combiner des tables</a></span></li><li><span><a href=\"#Tidyfication\" data-toc-modified-id=\"Tidyfication-3\"><span class=\"toc-item-num\">3&nbsp;&nbsp;</span>Tidyfication</a></span></li><li><span><a href=\"#Regroupement-et-exploitation\" data-toc-modified-id=\"Regroupement-et-exploitation-4\"><span class=\"toc-item-num\">4&nbsp;&nbsp;</span>Regroupement et exploitation</a></span></li><li><span><a href=\"#Plus-loin---Complétons-encore-ces-données\" data-toc-modified-id=\"Plus-loin---Complétons-encore-ces-données-5\"><span class=\"toc-item-num\">5&nbsp;&nbsp;</span>Plus loin - Complétons encore ces données</a></span></li></ul></div>"
   ]
  },
  {
   "cell_type": "markdown",
   "metadata": {},
   "source": [
    "## Lecture des données et première exploration"
   ]
  },
  {
   "cell_type": "markdown",
   "metadata": {},
   "source": [
    "**Question 1.1** :  Lire le fichier `g1800s.csv`  et stocker le résultat dans une variable g800s. Vous utiliserez pour cela la méthode `read_csv` de pandas, cf [documentation](https://pandas.pydata.org/pandas-docs/stable/reference/io.html). N'oubliez pas de préfixer par pd. "
   ]
  },
  {
   "cell_type": "code",
   "execution_count": 2,
   "metadata": {},
   "outputs": [],
   "source": [
    "g1800s = pd.read_csv(\"g1800s.csv\")"
   ]
  },
  {
   "cell_type": "code",
   "execution_count": 3,
   "metadata": {},
   "outputs": [
    {
     "data": {
      "text/html": [
       "<div>\n",
       "<style scoped>\n",
       "    .dataframe tbody tr th:only-of-type {\n",
       "        vertical-align: middle;\n",
       "    }\n",
       "\n",
       "    .dataframe tbody tr th {\n",
       "        vertical-align: top;\n",
       "    }\n",
       "\n",
       "    .dataframe thead th {\n",
       "        text-align: right;\n",
       "    }\n",
       "</style>\n",
       "<table border=\"1\" class=\"dataframe\">\n",
       "  <thead>\n",
       "    <tr style=\"text-align: right;\">\n",
       "      <th></th>\n",
       "      <th>Life expectancy</th>\n",
       "      <th>1800</th>\n",
       "      <th>1801</th>\n",
       "      <th>1802</th>\n",
       "      <th>1803</th>\n",
       "      <th>1804</th>\n",
       "      <th>1805</th>\n",
       "      <th>1806</th>\n",
       "      <th>1807</th>\n",
       "      <th>1808</th>\n",
       "      <th>...</th>\n",
       "      <th>1890</th>\n",
       "      <th>1891</th>\n",
       "      <th>1892</th>\n",
       "      <th>1893</th>\n",
       "      <th>1894</th>\n",
       "      <th>1895</th>\n",
       "      <th>1896</th>\n",
       "      <th>1897</th>\n",
       "      <th>1898</th>\n",
       "      <th>1899</th>\n",
       "    </tr>\n",
       "  </thead>\n",
       "  <tbody>\n",
       "    <tr>\n",
       "      <th>0</th>\n",
       "      <td>Afghanistan</td>\n",
       "      <td>28.21</td>\n",
       "      <td>28.20</td>\n",
       "      <td>28.19</td>\n",
       "      <td>28.18</td>\n",
       "      <td>28.17</td>\n",
       "      <td>28.16</td>\n",
       "      <td>28.15</td>\n",
       "      <td>28.14</td>\n",
       "      <td>28.13</td>\n",
       "      <td>...</td>\n",
       "      <td>31.39</td>\n",
       "      <td>31.59</td>\n",
       "      <td>31.78</td>\n",
       "      <td>31.97</td>\n",
       "      <td>32.16</td>\n",
       "      <td>32.36</td>\n",
       "      <td>32.55</td>\n",
       "      <td>32.74</td>\n",
       "      <td>32.93</td>\n",
       "      <td>33.13</td>\n",
       "    </tr>\n",
       "    <tr>\n",
       "      <th>1</th>\n",
       "      <td>Albania</td>\n",
       "      <td>35.40</td>\n",
       "      <td>35.40</td>\n",
       "      <td>35.40</td>\n",
       "      <td>35.40</td>\n",
       "      <td>35.40</td>\n",
       "      <td>35.40</td>\n",
       "      <td>35.40</td>\n",
       "      <td>35.40</td>\n",
       "      <td>35.40</td>\n",
       "      <td>...</td>\n",
       "      <td>35.08</td>\n",
       "      <td>35.06</td>\n",
       "      <td>35.04</td>\n",
       "      <td>35.03</td>\n",
       "      <td>35.01</td>\n",
       "      <td>35.00</td>\n",
       "      <td>34.98</td>\n",
       "      <td>34.96</td>\n",
       "      <td>34.95</td>\n",
       "      <td>34.93</td>\n",
       "    </tr>\n",
       "    <tr>\n",
       "      <th>2</th>\n",
       "      <td>Algeria</td>\n",
       "      <td>28.82</td>\n",
       "      <td>28.82</td>\n",
       "      <td>28.82</td>\n",
       "      <td>28.82</td>\n",
       "      <td>28.82</td>\n",
       "      <td>28.82</td>\n",
       "      <td>28.82</td>\n",
       "      <td>28.82</td>\n",
       "      <td>28.82</td>\n",
       "      <td>...</td>\n",
       "      <td>31.05</td>\n",
       "      <td>31.16</td>\n",
       "      <td>31.28</td>\n",
       "      <td>31.39</td>\n",
       "      <td>31.50</td>\n",
       "      <td>31.61</td>\n",
       "      <td>31.72</td>\n",
       "      <td>31.83</td>\n",
       "      <td>31.94</td>\n",
       "      <td>32.06</td>\n",
       "    </tr>\n",
       "    <tr>\n",
       "      <th>3</th>\n",
       "      <td>Andorra</td>\n",
       "      <td>NaN</td>\n",
       "      <td>NaN</td>\n",
       "      <td>NaN</td>\n",
       "      <td>NaN</td>\n",
       "      <td>NaN</td>\n",
       "      <td>NaN</td>\n",
       "      <td>NaN</td>\n",
       "      <td>NaN</td>\n",
       "      <td>NaN</td>\n",
       "      <td>...</td>\n",
       "      <td>NaN</td>\n",
       "      <td>NaN</td>\n",
       "      <td>NaN</td>\n",
       "      <td>NaN</td>\n",
       "      <td>NaN</td>\n",
       "      <td>NaN</td>\n",
       "      <td>NaN</td>\n",
       "      <td>NaN</td>\n",
       "      <td>NaN</td>\n",
       "      <td>NaN</td>\n",
       "    </tr>\n",
       "    <tr>\n",
       "      <th>4</th>\n",
       "      <td>Angola</td>\n",
       "      <td>26.98</td>\n",
       "      <td>26.98</td>\n",
       "      <td>26.98</td>\n",
       "      <td>26.98</td>\n",
       "      <td>26.98</td>\n",
       "      <td>26.98</td>\n",
       "      <td>26.98</td>\n",
       "      <td>26.98</td>\n",
       "      <td>26.98</td>\n",
       "      <td>...</td>\n",
       "      <td>30.76</td>\n",
       "      <td>30.95</td>\n",
       "      <td>31.14</td>\n",
       "      <td>31.33</td>\n",
       "      <td>31.51</td>\n",
       "      <td>31.70</td>\n",
       "      <td>31.89</td>\n",
       "      <td>32.08</td>\n",
       "      <td>32.27</td>\n",
       "      <td>32.46</td>\n",
       "    </tr>\n",
       "  </tbody>\n",
       "</table>\n",
       "<p>5 rows × 101 columns</p>\n",
       "</div>"
      ],
      "text/plain": [
       "  Life expectancy   1800   1801   1802   1803   1804   1805   1806   1807  \\\n",
       "0     Afghanistan  28.21  28.20  28.19  28.18  28.17  28.16  28.15  28.14   \n",
       "1         Albania  35.40  35.40  35.40  35.40  35.40  35.40  35.40  35.40   \n",
       "2         Algeria  28.82  28.82  28.82  28.82  28.82  28.82  28.82  28.82   \n",
       "3         Andorra    NaN    NaN    NaN    NaN    NaN    NaN    NaN    NaN   \n",
       "4          Angola  26.98  26.98  26.98  26.98  26.98  26.98  26.98  26.98   \n",
       "\n",
       "    1808  ...   1890   1891   1892   1893   1894   1895   1896   1897   1898  \\\n",
       "0  28.13  ...  31.39  31.59  31.78  31.97  32.16  32.36  32.55  32.74  32.93   \n",
       "1  35.40  ...  35.08  35.06  35.04  35.03  35.01  35.00  34.98  34.96  34.95   \n",
       "2  28.82  ...  31.05  31.16  31.28  31.39  31.50  31.61  31.72  31.83  31.94   \n",
       "3    NaN  ...    NaN    NaN    NaN    NaN    NaN    NaN    NaN    NaN    NaN   \n",
       "4  26.98  ...  30.76  30.95  31.14  31.33  31.51  31.70  31.89  32.08  32.27   \n",
       "\n",
       "    1899  \n",
       "0  33.13  \n",
       "1  34.93  \n",
       "2  32.06  \n",
       "3    NaN  \n",
       "4  32.46  \n",
       "\n",
       "[5 rows x 101 columns]"
      ]
     },
     "execution_count": 3,
     "metadata": {},
     "output_type": "execute_result"
    }
   ],
   "source": [
    "# Afficher les premières lignes\n",
    "g1800s.head()"
   ]
  },
  {
   "cell_type": "markdown",
   "metadata": {},
   "source": [
    "**Question 1.2** : Explorez quelles sont les caractéristiques de la table : nombre de données, dimensions, types des données. méthodes `.info`, `.describe`, `.dtypes`, attibut `.shape` "
   ]
  },
  {
   "cell_type": "code",
   "execution_count": 5,
   "metadata": {},
   "outputs": [
    {
     "data": {
      "text/plain": [
       "19897"
      ]
     },
     "execution_count": 5,
     "metadata": {},
     "output_type": "execute_result"
    }
   ],
   "source": [
    "g1800s.shape\n",
    "g1800s.size\n"
   ]
  },
  {
   "cell_type": "code",
   "execution_count": 7,
   "metadata": {},
   "outputs": [
    {
     "data": {
      "text/html": [
       "<div>\n",
       "<style scoped>\n",
       "    .dataframe tbody tr th:only-of-type {\n",
       "        vertical-align: middle;\n",
       "    }\n",
       "\n",
       "    .dataframe tbody tr th {\n",
       "        vertical-align: top;\n",
       "    }\n",
       "\n",
       "    .dataframe thead th {\n",
       "        text-align: right;\n",
       "    }\n",
       "</style>\n",
       "<table border=\"1\" class=\"dataframe\">\n",
       "  <thead>\n",
       "    <tr style=\"text-align: right;\">\n",
       "      <th></th>\n",
       "      <th>1800</th>\n",
       "      <th>1801</th>\n",
       "      <th>1802</th>\n",
       "      <th>1803</th>\n",
       "      <th>1804</th>\n",
       "      <th>1805</th>\n",
       "      <th>1806</th>\n",
       "      <th>1807</th>\n",
       "      <th>1808</th>\n",
       "      <th>1809</th>\n",
       "      <th>...</th>\n",
       "      <th>1890</th>\n",
       "      <th>1891</th>\n",
       "      <th>1892</th>\n",
       "      <th>1893</th>\n",
       "      <th>1894</th>\n",
       "      <th>1895</th>\n",
       "      <th>1896</th>\n",
       "      <th>1897</th>\n",
       "      <th>1898</th>\n",
       "      <th>1899</th>\n",
       "    </tr>\n",
       "  </thead>\n",
       "  <tbody>\n",
       "    <tr>\n",
       "      <th>count</th>\n",
       "      <td>186.000000</td>\n",
       "      <td>186.000000</td>\n",
       "      <td>186.000000</td>\n",
       "      <td>186.000000</td>\n",
       "      <td>186.000000</td>\n",
       "      <td>186.000000</td>\n",
       "      <td>186.000000</td>\n",
       "      <td>186.000000</td>\n",
       "      <td>186.000000</td>\n",
       "      <td>186.000000</td>\n",
       "      <td>...</td>\n",
       "      <td>186.000000</td>\n",
       "      <td>186.000000</td>\n",
       "      <td>186.000000</td>\n",
       "      <td>186.000000</td>\n",
       "      <td>186.000000</td>\n",
       "      <td>186.000000</td>\n",
       "      <td>186.000000</td>\n",
       "      <td>186.000000</td>\n",
       "      <td>186.000000</td>\n",
       "      <td>186.000000</td>\n",
       "    </tr>\n",
       "    <tr>\n",
       "      <th>mean</th>\n",
       "      <td>31.504301</td>\n",
       "      <td>31.464194</td>\n",
       "      <td>31.479946</td>\n",
       "      <td>31.386935</td>\n",
       "      <td>31.461398</td>\n",
       "      <td>31.586989</td>\n",
       "      <td>31.644731</td>\n",
       "      <td>31.598441</td>\n",
       "      <td>31.386237</td>\n",
       "      <td>31.314570</td>\n",
       "      <td>...</td>\n",
       "      <td>33.115108</td>\n",
       "      <td>33.347688</td>\n",
       "      <td>33.382688</td>\n",
       "      <td>33.473011</td>\n",
       "      <td>33.738387</td>\n",
       "      <td>33.838925</td>\n",
       "      <td>33.959624</td>\n",
       "      <td>34.064301</td>\n",
       "      <td>34.130108</td>\n",
       "      <td>34.126720</td>\n",
       "    </tr>\n",
       "    <tr>\n",
       "      <th>std</th>\n",
       "      <td>3.808172</td>\n",
       "      <td>3.799967</td>\n",
       "      <td>3.930641</td>\n",
       "      <td>3.956290</td>\n",
       "      <td>3.929598</td>\n",
       "      <td>4.004460</td>\n",
       "      <td>4.101342</td>\n",
       "      <td>3.971748</td>\n",
       "      <td>4.079098</td>\n",
       "      <td>4.032086</td>\n",
       "      <td>...</td>\n",
       "      <td>5.887144</td>\n",
       "      <td>5.661333</td>\n",
       "      <td>5.749977</td>\n",
       "      <td>5.946566</td>\n",
       "      <td>5.686913</td>\n",
       "      <td>5.941806</td>\n",
       "      <td>6.228897</td>\n",
       "      <td>6.262405</td>\n",
       "      <td>6.199341</td>\n",
       "      <td>6.186988</td>\n",
       "    </tr>\n",
       "    <tr>\n",
       "      <th>min</th>\n",
       "      <td>23.390000</td>\n",
       "      <td>23.390000</td>\n",
       "      <td>23.390000</td>\n",
       "      <td>19.600000</td>\n",
       "      <td>23.390000</td>\n",
       "      <td>23.390000</td>\n",
       "      <td>23.390000</td>\n",
       "      <td>23.390000</td>\n",
       "      <td>12.480000</td>\n",
       "      <td>13.430000</td>\n",
       "      <td>...</td>\n",
       "      <td>4.000000</td>\n",
       "      <td>8.000000</td>\n",
       "      <td>14.000000</td>\n",
       "      <td>8.140000</td>\n",
       "      <td>21.680000</td>\n",
       "      <td>21.490000</td>\n",
       "      <td>19.510000</td>\n",
       "      <td>18.520000</td>\n",
       "      <td>20.670000</td>\n",
       "      <td>19.860000</td>\n",
       "    </tr>\n",
       "    <tr>\n",
       "      <th>25%</th>\n",
       "      <td>29.025000</td>\n",
       "      <td>28.962500</td>\n",
       "      <td>28.912500</td>\n",
       "      <td>28.912500</td>\n",
       "      <td>28.962500</td>\n",
       "      <td>29.025000</td>\n",
       "      <td>29.025000</td>\n",
       "      <td>29.025000</td>\n",
       "      <td>28.962500</td>\n",
       "      <td>28.840000</td>\n",
       "      <td>...</td>\n",
       "      <td>30.467500</td>\n",
       "      <td>30.645000</td>\n",
       "      <td>30.422500</td>\n",
       "      <td>30.340000</td>\n",
       "      <td>30.520000</td>\n",
       "      <td>30.317500</td>\n",
       "      <td>30.280000</td>\n",
       "      <td>30.470000</td>\n",
       "      <td>30.305000</td>\n",
       "      <td>30.327500</td>\n",
       "    </tr>\n",
       "    <tr>\n",
       "      <th>50%</th>\n",
       "      <td>31.750000</td>\n",
       "      <td>31.650000</td>\n",
       "      <td>31.550000</td>\n",
       "      <td>31.500000</td>\n",
       "      <td>31.550000</td>\n",
       "      <td>31.650000</td>\n",
       "      <td>31.750000</td>\n",
       "      <td>31.750000</td>\n",
       "      <td>31.550000</td>\n",
       "      <td>31.500000</td>\n",
       "      <td>...</td>\n",
       "      <td>32.915000</td>\n",
       "      <td>33.040000</td>\n",
       "      <td>32.985000</td>\n",
       "      <td>33.005000</td>\n",
       "      <td>33.100000</td>\n",
       "      <td>33.175000</td>\n",
       "      <td>33.335000</td>\n",
       "      <td>33.480000</td>\n",
       "      <td>33.545000</td>\n",
       "      <td>33.630000</td>\n",
       "    </tr>\n",
       "    <tr>\n",
       "      <th>75%</th>\n",
       "      <td>33.875000</td>\n",
       "      <td>33.895000</td>\n",
       "      <td>33.875000</td>\n",
       "      <td>33.675000</td>\n",
       "      <td>33.775000</td>\n",
       "      <td>33.875000</td>\n",
       "      <td>33.975000</td>\n",
       "      <td>33.975000</td>\n",
       "      <td>33.775000</td>\n",
       "      <td>33.675000</td>\n",
       "      <td>...</td>\n",
       "      <td>35.305000</td>\n",
       "      <td>35.432500</td>\n",
       "      <td>35.520000</td>\n",
       "      <td>35.587500</td>\n",
       "      <td>35.595000</td>\n",
       "      <td>35.720000</td>\n",
       "      <td>35.765000</td>\n",
       "      <td>35.982500</td>\n",
       "      <td>36.135000</td>\n",
       "      <td>36.262500</td>\n",
       "    </tr>\n",
       "    <tr>\n",
       "      <th>max</th>\n",
       "      <td>42.850000</td>\n",
       "      <td>40.300000</td>\n",
       "      <td>44.370000</td>\n",
       "      <td>44.840000</td>\n",
       "      <td>42.830000</td>\n",
       "      <td>44.270000</td>\n",
       "      <td>45.820000</td>\n",
       "      <td>43.560000</td>\n",
       "      <td>43.550000</td>\n",
       "      <td>41.740000</td>\n",
       "      <td>...</td>\n",
       "      <td>50.520000</td>\n",
       "      <td>51.130000</td>\n",
       "      <td>52.830000</td>\n",
       "      <td>52.690000</td>\n",
       "      <td>52.150000</td>\n",
       "      <td>54.210000</td>\n",
       "      <td>53.920000</td>\n",
       "      <td>54.200000</td>\n",
       "      <td>54.750000</td>\n",
       "      <td>51.700000</td>\n",
       "    </tr>\n",
       "  </tbody>\n",
       "</table>\n",
       "<p>8 rows × 100 columns</p>\n",
       "</div>"
      ],
      "text/plain": [
       "             1800        1801        1802        1803        1804        1805  \\\n",
       "count  186.000000  186.000000  186.000000  186.000000  186.000000  186.000000   \n",
       "mean    31.504301   31.464194   31.479946   31.386935   31.461398   31.586989   \n",
       "std      3.808172    3.799967    3.930641    3.956290    3.929598    4.004460   \n",
       "min     23.390000   23.390000   23.390000   19.600000   23.390000   23.390000   \n",
       "25%     29.025000   28.962500   28.912500   28.912500   28.962500   29.025000   \n",
       "50%     31.750000   31.650000   31.550000   31.500000   31.550000   31.650000   \n",
       "75%     33.875000   33.895000   33.875000   33.675000   33.775000   33.875000   \n",
       "max     42.850000   40.300000   44.370000   44.840000   42.830000   44.270000   \n",
       "\n",
       "             1806        1807        1808        1809  ...        1890  \\\n",
       "count  186.000000  186.000000  186.000000  186.000000  ...  186.000000   \n",
       "mean    31.644731   31.598441   31.386237   31.314570  ...   33.115108   \n",
       "std      4.101342    3.971748    4.079098    4.032086  ...    5.887144   \n",
       "min     23.390000   23.390000   12.480000   13.430000  ...    4.000000   \n",
       "25%     29.025000   29.025000   28.962500   28.840000  ...   30.467500   \n",
       "50%     31.750000   31.750000   31.550000   31.500000  ...   32.915000   \n",
       "75%     33.975000   33.975000   33.775000   33.675000  ...   35.305000   \n",
       "max     45.820000   43.560000   43.550000   41.740000  ...   50.520000   \n",
       "\n",
       "             1891        1892        1893        1894        1895        1896  \\\n",
       "count  186.000000  186.000000  186.000000  186.000000  186.000000  186.000000   \n",
       "mean    33.347688   33.382688   33.473011   33.738387   33.838925   33.959624   \n",
       "std      5.661333    5.749977    5.946566    5.686913    5.941806    6.228897   \n",
       "min      8.000000   14.000000    8.140000   21.680000   21.490000   19.510000   \n",
       "25%     30.645000   30.422500   30.340000   30.520000   30.317500   30.280000   \n",
       "50%     33.040000   32.985000   33.005000   33.100000   33.175000   33.335000   \n",
       "75%     35.432500   35.520000   35.587500   35.595000   35.720000   35.765000   \n",
       "max     51.130000   52.830000   52.690000   52.150000   54.210000   53.920000   \n",
       "\n",
       "             1897        1898        1899  \n",
       "count  186.000000  186.000000  186.000000  \n",
       "mean    34.064301   34.130108   34.126720  \n",
       "std      6.262405    6.199341    6.186988  \n",
       "min     18.520000   20.670000   19.860000  \n",
       "25%     30.470000   30.305000   30.327500  \n",
       "50%     33.480000   33.545000   33.630000  \n",
       "75%     35.982500   36.135000   36.262500  \n",
       "max     54.200000   54.750000   51.700000  \n",
       "\n",
       "[8 rows x 100 columns]"
      ]
     },
     "execution_count": 7,
     "metadata": {},
     "output_type": "execute_result"
    }
   ],
   "source": [
    "g1800s.describe()"
   ]
  },
  {
   "cell_type": "code",
   "execution_count": 11,
   "metadata": {},
   "outputs": [],
   "source": [
    "Nombre_de_lignes = g1800s.shape[0]\n",
    "Nombre_de_colonnes = g1800s.shape[1]\n",
    "Type_de_la_variable_1803 = (g1800s[\"1800\"]).dtypes## FILL HERE ## #choisir entre float, string, object, int\n",
    "Nombre_de_variables_qualitatives = g1800s.value_counts()"
   ]
  },
  {
   "cell_type": "code",
   "execution_count": 9,
   "metadata": {},
   "outputs": [
    {
     "name": "stdout",
     "output_type": "stream",
     "text": [
      "1 test passed.\n",
      "1 test passed.\n",
      "1 test failed. \n",
      "1 test failed. \n"
     ]
    }
   ],
   "source": [
    "Test.assertEqualsHashed(Nombre_de_lignes, '61188f24396807ba7ca38919a158766de935852e')\n",
    "Test.assertEqualsHashed(Nombre_de_colonnes,'dbc0f004854457f59fb16ab863a3a1722cef553f')\n",
    "Test.assertEqualsHashed(Type_de_la_variable_1803,'1c737bef1c20a191fa97fbb9558e4f5cc67ac29d')\n",
    "Test.assertEqualsHashed(Nombre_de_variables_qualitatives, '356a192b7913b04c54574d18c28d46e6395428ab')"
   ]
  },
  {
   "cell_type": "markdown",
   "metadata": {},
   "source": [
    "**Question 1.3** : Evaluer quel est le nombre de données manquantes, et le pourcentage par rapport à l'ensemble des données. Utiliser par exemple `.isna()` et `.sum()` "
   ]
  },
  {
   "cell_type": "code",
   "execution_count": 12,
   "metadata": {},
   "outputs": [],
   "source": [
    "Nb_donnees_manquantes = g1800s.isna().sum().sum()\n",
    "Nombre_données_totales =g1800s.size\n",
    "Pourcentage_donnees_manquantes = Nb_donnees_manquantes/Nombre_données_totales*100"
   ]
  },
  {
   "cell_type": "code",
   "execution_count": 13,
   "metadata": {},
   "outputs": [
    {
     "name": "stdout",
     "output_type": "stream",
     "text": [
      "1 test passed.\n",
      "1 test passed.\n"
     ]
    }
   ],
   "source": [
    "Test.assertEqualsHashed(Nb_donnees_manquantes,'b124524c4b1ade45d1deecbcdef614fadb3ec205')\n",
    "Test.assertTrue(np.isclose(Pourcentage_donnees_manquantes, 5.5, rtol=0.01))"
   ]
  },
  {
   "cell_type": "markdown",
   "metadata": {},
   "source": [
    "**Question 1.4** : En utilisant la méthode `.plot()` des objets pandas, avec les paramètres adéquats, tracez le nuage de points liant les colonnes `1800` et `1899`. Remplacez les '_____' . Evaluez la pente de la droite qui semble se dessiner. Que peut-on en conclure quant au lien entre les espérances de vies à ces deux années et son évolution dans le temps ? Comment interpréter le fait que le nuage semble dissymétrique autour de cette droite ?\n",
    "\n",
    "Vous pouvez aussi utiliser la fonction `scatterplot` de la bibliothèque seaborn pour produite ce graphique. "
   ]
  },
  {
   "cell_type": "code",
   "execution_count": 14,
   "metadata": {},
   "outputs": [
    {
     "data": {
      "image/png": "[encoded data removed]",
      "text/plain": [
       "<Figure size 640x480 with 1 Axes>"
      ]
     },
     "metadata": {},
     "output_type": "display_data"
    }
   ],
   "source": [
    "# scatter plot\n",
    "g1800s.plot(kind='scatter', x='1800', y='1899')\n",
    "\n",
    "# Labels des axes\n",
    "plt.xlabel('Life Expectancy by Country in 1800')\n",
    "plt.ylabel('Life Expectancy by Country in 1899')\n",
    "\n",
    "# Limites des axes\n",
    "plt.xlim(20, 55)\n",
    "plt.ylim(20, 55)\n",
    "\n",
    "# show\n",
    "plt.show()\n"
   ]
  },
  {
   "cell_type": "markdown",
   "metadata": {},
   "source": [
    "Avec la librairie seaborn"
   ]
  },
  {
   "cell_type": "code",
   "execution_count": null,
   "metadata": {},
   "outputs": [],
   "source": [
    "sns.scatterplot(data=____, x='_____', y='_____')"
   ]
  },
  {
   "cell_type": "markdown",
   "metadata": {},
   "source": [
    "Utiliser la méthode `lmplot` de seaborn afin de visualiser la tendance linéaire dans les données. Que penser du fait que la droite identifiée n'a pas la même pente que celle qui semblait se dégager des observations , "
   ]
  },
  {
   "cell_type": "code",
   "execution_count": 15,
   "metadata": {},
   "outputs": [
    {
     "data": {
      "text/plain": [
       "<seaborn.axisgrid.FacetGrid at 0x131183f50>"
      ]
     },
     "execution_count": 15,
     "metadata": {},
     "output_type": "execute_result"
    },
    {
     "data": {
      "image/png": "[encoded data removed]",
      "text/plain": [
       "<Figure size 500x500 with 1 Axes>"
      ]
     },
     "metadata": {},
     "output_type": "display_data"
    }
   ],
   "source": [
    "sns.lmplot(data=g1800s, x='1800', y='1899')"
   ]
  },
  {
   "cell_type": "markdown",
   "metadata": {},
   "source": [
    "**Question 1.5** : Qualité des données :\n",
    "\n",
    "1. vérifier que toutes les données numériques sont non négatives (ce sont des espérances de vie) \n",
    "    > Hint: \n",
    "    - (1) retirer toutes les lignes où une valeur manquante est présente, méthode `.dropna()`, \n",
    "    - (2) tester si toutes les valeurs numériques sont >=0 \n",
    "    - (3) utiliser la méthode `.all()` (2 fois) pour tester que tous les résultats de tests sont True\n",
    "- vérifier que tous les pays ne sont mentionnés qu'une seule fois (pas de lignes dupliquées ou d'enregistrements redondants) Hint: utiliser `.value_counts()` et vérifier que toutes les valeurs sont inférieurs ou égales à 1\n"
   ]
  },
  {
   "cell_type": "code",
   "execution_count": 20,
   "metadata": {},
   "outputs": [
    {
     "data": {
      "text/plain": [
       "True"
      ]
     },
     "execution_count": 20,
     "metadata": {},
     "output_type": "execute_result"
    }
   ],
   "source": [
    "# 1.5.1\n",
    "(g1800s.dropna().loc[:,'1800'] >= 0).all().all()"
   ]
  },
  {
   "cell_type": "code",
   "execution_count": 21,
   "metadata": {},
   "outputs": [],
   "source": [
    "#2 (solution --> comprendre)\n",
    "assert g1800s['Life expectancy'].value_counts().max() == 1"
   ]
  },
  {
   "cell_type": "markdown",
   "metadata": {},
   "source": [
    "## Combiner des tables\n",
    "\n",
    "On dispose en fait des tables pour les années 1900 et 2000, sous la forme de fichiers csv  \n",
    "\n",
    "- Charger les tables correspondantes dans des variabes `g1900s`  et `g2000s`,\n",
    "- visualiser leurs caractéristiques\n",
    "- concaténer ces tables suivant les lignes, sous la forme d'une nouvelle table `gapminder` \n"
   ]
  },
  {
   "cell_type": "markdown",
   "metadata": {},
   "source": [
    "**Question 2.1** : Charger les tables"
   ]
  },
  {
   "cell_type": "code",
   "execution_count": 23,
   "metadata": {},
   "outputs": [],
   "source": [
    "g1900s = pd.read_csv(\"g1900s.csv\")\n",
    "g2000s = pd.read_csv(\"g2000s.csv\")"
   ]
  },
  {
   "cell_type": "code",
   "execution_count": 24,
   "metadata": {},
   "outputs": [
    {
     "name": "stdout",
     "output_type": "stream",
     "text": [
      "1 test passed.\n"
     ]
    }
   ],
   "source": [
    "Test.assertEqualsHashed(g2000s.shape, 'dd7e258e5680b4e7af857c81c4beae957c61f96d')"
   ]
  },
  {
   "cell_type": "markdown",
   "metadata": {},
   "source": [
    "**Question 2.2** : Caractéristiques"
   ]
  },
  {
   "cell_type": "code",
   "execution_count": 25,
   "metadata": {},
   "outputs": [
    {
     "data": {
      "text/plain": [
       "(197, 101)"
      ]
     },
     "execution_count": 25,
     "metadata": {},
     "output_type": "execute_result"
    }
   ],
   "source": [
    "g1900s.shape"
   ]
  },
  {
   "cell_type": "code",
   "execution_count": 26,
   "metadata": {},
   "outputs": [
    {
     "data": {
      "text/plain": [
       "(197, 24)"
      ]
     },
     "execution_count": 26,
     "metadata": {},
     "output_type": "execute_result"
    }
   ],
   "source": [
    "g2000s.shape"
   ]
  },
  {
   "cell_type": "code",
   "execution_count": 27,
   "metadata": {},
   "outputs": [
    {
     "data": {
      "text/plain": [
       "Index(['Life expectancy', '2000', '2001', '2002', '2003', '2004', '2005',\n",
       "       '2006', '2007', '2008', '2009', '2010', '2011', '2012', '2013', '2014',\n",
       "       '2015', '2016', '2017', '2018', '2019', '2020', '2021', '2022'],\n",
       "      dtype='object')"
      ]
     },
     "execution_count": 27,
     "metadata": {},
     "output_type": "execute_result"
    }
   ],
   "source": [
    "g2000s.columns"
   ]
  },
  {
   "cell_type": "markdown",
   "metadata": {},
   "source": [
    "**Question 2.3** : Concaténation\n",
    "\n",
    "Afin de combiner les données des différents siècles, nous allons concaténer les tables suivant l'axe des lignes. "
   ]
  },
  {
   "cell_type": "code",
   "execution_count": 28,
   "metadata": {},
   "outputs": [],
   "source": [
    "# Set a common index for all dataframes\n",
    "for df in [g1800s, g1900s, g2000s]:\n",
    "    df.set_index('Life expectancy', inplace=True)"
   ]
  },
  {
   "cell_type": "code",
   "execution_count": 31,
   "metadata": {},
   "outputs": [
    {
     "name": "stdout",
     "output_type": "stream",
     "text": [
      "                  1800   1801   1802   1803   1804   1805   1806   1807  \\\n",
      "Life expectancy                                                           \n",
      "Afghanistan      28.21  28.20  28.19  28.18  28.17  28.16  28.15  28.14   \n",
      "Albania          35.40  35.40  35.40  35.40  35.40  35.40  35.40  35.40   \n",
      "Algeria          28.82  28.82  28.82  28.82  28.82  28.82  28.82  28.82   \n",
      "Andorra            NaN    NaN    NaN    NaN    NaN    NaN    NaN    NaN   \n",
      "Angola           26.98  26.98  26.98  26.98  26.98  26.98  26.98  26.98   \n",
      "\n",
      "                  1808   1809  ...   2013   2014   2015   2016   2017   2018  \\\n",
      "Life expectancy                ...                                             \n",
      "Afghanistan      28.13  28.12  ...  61.93  61.93  61.91  62.03  62.90  62.73   \n",
      "Albania          35.40  35.40  ...  78.28  78.21  78.14  78.23  78.33  78.44   \n",
      "Algeria          28.82  28.82  ...  75.12  75.27  75.44  75.71  75.92  76.02   \n",
      "Andorra            NaN    NaN  ...  81.95  81.97  82.01  82.06  82.11  82.14   \n",
      "Angola           26.98  26.98  ...  62.13  63.01  63.52  63.87  64.24  64.63   \n",
      "\n",
      "                  2019   2020   2021   2022  \n",
      "Life expectancy                              \n",
      "Afghanistan      63.33  63.39  63.98  64.30  \n",
      "Albania          78.50  77.90  78.73  78.84  \n",
      "Algeria          76.20  76.20  76.56  76.74  \n",
      "Andorra          82.19    NaN    NaN    NaN  \n",
      "Angola           65.08  65.20  65.78  66.11  \n",
      "\n",
      "[5 rows x 223 columns]\n"
     ]
    }
   ],
   "source": [
    "# Concatenate the DataFrames row-wise\n",
    "gapminder = pd.concat([g1800s, g1900s, g2000s], axis=1, sort=True)\n",
    "print(gapminder.head()\n",
    "      )"
   ]
  },
  {
   "cell_type": "code",
   "execution_count": 32,
   "metadata": {},
   "outputs": [
    {
     "name": "stdout",
     "output_type": "stream",
     "text": [
      "1 test passed.\n"
     ]
    }
   ],
   "source": [
    "Test.assertEqualsHashed(gapminder.shape,'fe67fcd9cfc09ade258d010684f9d69f7ff014b0')"
   ]
  },
  {
   "cell_type": "markdown",
   "metadata": {},
   "source": [
    "- Afficher la taille et les premières lignes de `gapminder` "
   ]
  },
  {
   "cell_type": "code",
   "execution_count": 33,
   "metadata": {},
   "outputs": [
    {
     "name": "stdout",
     "output_type": "stream",
     "text": [
      "43931                   1800   1801   1802   1803   1804   1805   1806   1807  \\\n",
      "Life expectancy                                                           \n",
      "Afghanistan      28.21  28.20  28.19  28.18  28.17  28.16  28.15  28.14   \n",
      "Albania          35.40  35.40  35.40  35.40  35.40  35.40  35.40  35.40   \n",
      "Algeria          28.82  28.82  28.82  28.82  28.82  28.82  28.82  28.82   \n",
      "Andorra            NaN    NaN    NaN    NaN    NaN    NaN    NaN    NaN   \n",
      "Angola           26.98  26.98  26.98  26.98  26.98  26.98  26.98  26.98   \n",
      "\n",
      "                  1808   1809  ...   2013   2014   2015   2016   2017   2018  \\\n",
      "Life expectancy                ...                                             \n",
      "Afghanistan      28.13  28.12  ...  61.93  61.93  61.91  62.03  62.90  62.73   \n",
      "Albania          35.40  35.40  ...  78.28  78.21  78.14  78.23  78.33  78.44   \n",
      "Algeria          28.82  28.82  ...  75.12  75.27  75.44  75.71  75.92  76.02   \n",
      "Andorra            NaN    NaN  ...  81.95  81.97  82.01  82.06  82.11  82.14   \n",
      "Angola           26.98  26.98  ...  62.13  63.01  63.52  63.87  64.24  64.63   \n",
      "\n",
      "                  2019   2020   2021   2022  \n",
      "Life expectancy                              \n",
      "Afghanistan      63.33  63.39  63.98  64.30  \n",
      "Albania          78.50  77.90  78.73  78.84  \n",
      "Algeria          76.20  76.20  76.56  76.74  \n",
      "Andorra          82.19    NaN    NaN    NaN  \n",
      "Angola           65.08  65.20  65.78  66.11  \n",
      "\n",
      "[5 rows x 223 columns]\n"
     ]
    }
   ],
   "source": [
    "print(gapminder.size, gapminder.head(5))"
   ]
  },
  {
   "cell_type": "code",
   "execution_count": 35,
   "metadata": {},
   "outputs": [
    {
     "name": "stdout",
     "output_type": "stream",
     "text": [
      "Index(['1800', '1801', '1802', '1803', '1804', '1805', '1806', '1807', '1808',\n",
      "       '1809',\n",
      "       ...\n",
      "       '2013', '2014', '2015', '2016', '2017', '2018', '2019', '2020', '2021',\n",
      "       '2022'],\n",
      "      dtype='object', length=223)\n"
     ]
    }
   ],
   "source": [
    "print(gapminder.columns)\n"
   ]
  },
  {
   "cell_type": "markdown",
   "metadata": {},
   "source": [
    "## Tidyfication\n",
    "\n",
    "Le format n'est pas \"tidy\", car l'année est certainement une variable intéressante. Il nous faudrait probablement une table dont les colonnes seraient le pays ('country'), l'année ('year') et la variable d'intérêt ('life_expectancy'). Il nous faut donc remettre en forme cette table en un vrai \"dataframe\", avec un index unique, des exemples suivant les lignes et les variables suivant les colonnes. \n",
    "\n",
    "**Question 3.1** : Pour cela, la méthode `melt` de pandas, que vous appellerez avec `pd.melt(___)` permet de réorganiser la table. voir l'aide de [melt](https://pandas.pydata.org/pandas-docs/stable/reference/api/pandas.melt.html). Renommer ensuite les colonnes : par exemple en `'country', 'year', 'life_expectancy'`"
   ]
  },
  {
   "cell_type": "code",
   "execution_count": 36,
   "metadata": {},
   "outputs": [
    {
     "data": {
      "text/html": [
       "<div>\n",
       "<style scoped>\n",
       "    .dataframe tbody tr th:only-of-type {\n",
       "        vertical-align: middle;\n",
       "    }\n",
       "\n",
       "    .dataframe tbody tr th {\n",
       "        vertical-align: top;\n",
       "    }\n",
       "\n",
       "    .dataframe thead th {\n",
       "        text-align: right;\n",
       "    }\n",
       "</style>\n",
       "<table border=\"1\" class=\"dataframe\">\n",
       "  <thead>\n",
       "    <tr style=\"text-align: right;\">\n",
       "      <th></th>\n",
       "      <th>Life expectancy</th>\n",
       "      <th>1800</th>\n",
       "      <th>1801</th>\n",
       "      <th>1802</th>\n",
       "      <th>1803</th>\n",
       "      <th>1804</th>\n",
       "      <th>1805</th>\n",
       "      <th>1806</th>\n",
       "      <th>1807</th>\n",
       "      <th>1808</th>\n",
       "      <th>...</th>\n",
       "      <th>2013</th>\n",
       "      <th>2014</th>\n",
       "      <th>2015</th>\n",
       "      <th>2016</th>\n",
       "      <th>2017</th>\n",
       "      <th>2018</th>\n",
       "      <th>2019</th>\n",
       "      <th>2020</th>\n",
       "      <th>2021</th>\n",
       "      <th>2022</th>\n",
       "    </tr>\n",
       "  </thead>\n",
       "  <tbody>\n",
       "    <tr>\n",
       "      <th>0</th>\n",
       "      <td>Afghanistan</td>\n",
       "      <td>28.21</td>\n",
       "      <td>28.20</td>\n",
       "      <td>28.19</td>\n",
       "      <td>28.18</td>\n",
       "      <td>28.17</td>\n",
       "      <td>28.16</td>\n",
       "      <td>28.15</td>\n",
       "      <td>28.14</td>\n",
       "      <td>28.13</td>\n",
       "      <td>...</td>\n",
       "      <td>61.93</td>\n",
       "      <td>61.93</td>\n",
       "      <td>61.91</td>\n",
       "      <td>62.03</td>\n",
       "      <td>62.90</td>\n",
       "      <td>62.73</td>\n",
       "      <td>63.33</td>\n",
       "      <td>63.39</td>\n",
       "      <td>63.98</td>\n",
       "      <td>64.30</td>\n",
       "    </tr>\n",
       "    <tr>\n",
       "      <th>1</th>\n",
       "      <td>Albania</td>\n",
       "      <td>35.40</td>\n",
       "      <td>35.40</td>\n",
       "      <td>35.40</td>\n",
       "      <td>35.40</td>\n",
       "      <td>35.40</td>\n",
       "      <td>35.40</td>\n",
       "      <td>35.40</td>\n",
       "      <td>35.40</td>\n",
       "      <td>35.40</td>\n",
       "      <td>...</td>\n",
       "      <td>78.28</td>\n",
       "      <td>78.21</td>\n",
       "      <td>78.14</td>\n",
       "      <td>78.23</td>\n",
       "      <td>78.33</td>\n",
       "      <td>78.44</td>\n",
       "      <td>78.50</td>\n",
       "      <td>77.90</td>\n",
       "      <td>78.73</td>\n",
       "      <td>78.84</td>\n",
       "    </tr>\n",
       "    <tr>\n",
       "      <th>2</th>\n",
       "      <td>Algeria</td>\n",
       "      <td>28.82</td>\n",
       "      <td>28.82</td>\n",
       "      <td>28.82</td>\n",
       "      <td>28.82</td>\n",
       "      <td>28.82</td>\n",
       "      <td>28.82</td>\n",
       "      <td>28.82</td>\n",
       "      <td>28.82</td>\n",
       "      <td>28.82</td>\n",
       "      <td>...</td>\n",
       "      <td>75.12</td>\n",
       "      <td>75.27</td>\n",
       "      <td>75.44</td>\n",
       "      <td>75.71</td>\n",
       "      <td>75.92</td>\n",
       "      <td>76.02</td>\n",
       "      <td>76.20</td>\n",
       "      <td>76.20</td>\n",
       "      <td>76.56</td>\n",
       "      <td>76.74</td>\n",
       "    </tr>\n",
       "    <tr>\n",
       "      <th>3</th>\n",
       "      <td>Andorra</td>\n",
       "      <td>NaN</td>\n",
       "      <td>NaN</td>\n",
       "      <td>NaN</td>\n",
       "      <td>NaN</td>\n",
       "      <td>NaN</td>\n",
       "      <td>NaN</td>\n",
       "      <td>NaN</td>\n",
       "      <td>NaN</td>\n",
       "      <td>NaN</td>\n",
       "      <td>...</td>\n",
       "      <td>81.95</td>\n",
       "      <td>81.97</td>\n",
       "      <td>82.01</td>\n",
       "      <td>82.06</td>\n",
       "      <td>82.11</td>\n",
       "      <td>82.14</td>\n",
       "      <td>82.19</td>\n",
       "      <td>NaN</td>\n",
       "      <td>NaN</td>\n",
       "      <td>NaN</td>\n",
       "    </tr>\n",
       "    <tr>\n",
       "      <th>4</th>\n",
       "      <td>Angola</td>\n",
       "      <td>26.98</td>\n",
       "      <td>26.98</td>\n",
       "      <td>26.98</td>\n",
       "      <td>26.98</td>\n",
       "      <td>26.98</td>\n",
       "      <td>26.98</td>\n",
       "      <td>26.98</td>\n",
       "      <td>26.98</td>\n",
       "      <td>26.98</td>\n",
       "      <td>...</td>\n",
       "      <td>62.13</td>\n",
       "      <td>63.01</td>\n",
       "      <td>63.52</td>\n",
       "      <td>63.87</td>\n",
       "      <td>64.24</td>\n",
       "      <td>64.63</td>\n",
       "      <td>65.08</td>\n",
       "      <td>65.20</td>\n",
       "      <td>65.78</td>\n",
       "      <td>66.11</td>\n",
       "    </tr>\n",
       "  </tbody>\n",
       "</table>\n",
       "<p>5 rows × 224 columns</p>\n",
       "</div>"
      ],
      "text/plain": [
       "  Life expectancy   1800   1801   1802   1803   1804   1805   1806   1807  \\\n",
       "0     Afghanistan  28.21  28.20  28.19  28.18  28.17  28.16  28.15  28.14   \n",
       "1         Albania  35.40  35.40  35.40  35.40  35.40  35.40  35.40  35.40   \n",
       "2         Algeria  28.82  28.82  28.82  28.82  28.82  28.82  28.82  28.82   \n",
       "3         Andorra    NaN    NaN    NaN    NaN    NaN    NaN    NaN    NaN   \n",
       "4          Angola  26.98  26.98  26.98  26.98  26.98  26.98  26.98  26.98   \n",
       "\n",
       "    1808  ...   2013   2014   2015   2016   2017   2018   2019   2020   2021  \\\n",
       "0  28.13  ...  61.93  61.93  61.91  62.03  62.90  62.73  63.33  63.39  63.98   \n",
       "1  35.40  ...  78.28  78.21  78.14  78.23  78.33  78.44  78.50  77.90  78.73   \n",
       "2  28.82  ...  75.12  75.27  75.44  75.71  75.92  76.02  76.20  76.20  76.56   \n",
       "3    NaN  ...  81.95  81.97  82.01  82.06  82.11  82.14  82.19    NaN    NaN   \n",
       "4  26.98  ...  62.13  63.01  63.52  63.87  64.24  64.63  65.08  65.20  65.78   \n",
       "\n",
       "    2022  \n",
       "0  64.30  \n",
       "1  78.84  \n",
       "2  76.74  \n",
       "3    NaN  \n",
       "4  66.11  \n",
       "\n",
       "[5 rows x 224 columns]"
      ]
     },
     "execution_count": 36,
     "metadata": {},
     "output_type": "execute_result"
    }
   ],
   "source": [
    "# Reset index (index as line numbers + individual column \"Life expectancy\")\n",
    "gapminder = gapminder.reset_index()\n",
    "gapminder.head()"
   ]
  },
  {
   "cell_type": "code",
   "execution_count": 42,
   "metadata": {},
   "outputs": [
    {
     "data": {
      "text/html": [
       "<div>\n",
       "<style scoped>\n",
       "    .dataframe tbody tr th:only-of-type {\n",
       "        vertical-align: middle;\n",
       "    }\n",
       "\n",
       "    .dataframe tbody tr th {\n",
       "        vertical-align: top;\n",
       "    }\n",
       "\n",
       "    .dataframe thead th {\n",
       "        text-align: right;\n",
       "    }\n",
       "</style>\n",
       "<table border=\"1\" class=\"dataframe\">\n",
       "  <thead>\n",
       "    <tr style=\"text-align: right;\">\n",
       "      <th></th>\n",
       "      <th>Life expectancy</th>\n",
       "      <th>variable</th>\n",
       "      <th>value</th>\n",
       "    </tr>\n",
       "  </thead>\n",
       "  <tbody>\n",
       "    <tr>\n",
       "      <th>0</th>\n",
       "      <td>Afghanistan</td>\n",
       "      <td>1800</td>\n",
       "      <td>28.21</td>\n",
       "    </tr>\n",
       "    <tr>\n",
       "      <th>1</th>\n",
       "      <td>Albania</td>\n",
       "      <td>1800</td>\n",
       "      <td>35.40</td>\n",
       "    </tr>\n",
       "    <tr>\n",
       "      <th>2</th>\n",
       "      <td>Algeria</td>\n",
       "      <td>1800</td>\n",
       "      <td>28.82</td>\n",
       "    </tr>\n",
       "    <tr>\n",
       "      <th>3</th>\n",
       "      <td>Andorra</td>\n",
       "      <td>1800</td>\n",
       "      <td>NaN</td>\n",
       "    </tr>\n",
       "    <tr>\n",
       "      <th>4</th>\n",
       "      <td>Angola</td>\n",
       "      <td>1800</td>\n",
       "      <td>26.98</td>\n",
       "    </tr>\n",
       "  </tbody>\n",
       "</table>\n",
       "</div>"
      ],
      "text/plain": [
       "  Life expectancy variable  value\n",
       "0     Afghanistan     1800  28.21\n",
       "1         Albania     1800  35.40\n",
       "2         Algeria     1800  28.82\n",
       "3         Andorra     1800    NaN\n",
       "4          Angola     1800  26.98"
      ]
     },
     "execution_count": 42,
     "metadata": {},
     "output_type": "execute_result"
    }
   ],
   "source": [
    "# Entrer les paramètres \n",
    "gapminder_melt = pd.melt(frame= gapminder, id_vars=\"Life expectancy\")\n",
    "gapminder_melt.head()"
   ]
  },
  {
   "cell_type": "code",
   "execution_count": 44,
   "metadata": {},
   "outputs": [
    {
     "data": {
      "text/html": [
       "<div>\n",
       "<style scoped>\n",
       "    .dataframe tbody tr th:only-of-type {\n",
       "        vertical-align: middle;\n",
       "    }\n",
       "\n",
       "    .dataframe tbody tr th {\n",
       "        vertical-align: top;\n",
       "    }\n",
       "\n",
       "    .dataframe thead th {\n",
       "        text-align: right;\n",
       "    }\n",
       "</style>\n",
       "<table border=\"1\" class=\"dataframe\">\n",
       "  <thead>\n",
       "    <tr style=\"text-align: right;\">\n",
       "      <th></th>\n",
       "      <th>country</th>\n",
       "      <th>year</th>\n",
       "      <th>life_expectancy</th>\n",
       "    </tr>\n",
       "  </thead>\n",
       "  <tbody>\n",
       "    <tr>\n",
       "      <th>0</th>\n",
       "      <td>Afghanistan</td>\n",
       "      <td>1800</td>\n",
       "      <td>28.21</td>\n",
       "    </tr>\n",
       "    <tr>\n",
       "      <th>1</th>\n",
       "      <td>Albania</td>\n",
       "      <td>1800</td>\n",
       "      <td>35.40</td>\n",
       "    </tr>\n",
       "    <tr>\n",
       "      <th>2</th>\n",
       "      <td>Algeria</td>\n",
       "      <td>1800</td>\n",
       "      <td>28.82</td>\n",
       "    </tr>\n",
       "    <tr>\n",
       "      <th>3</th>\n",
       "      <td>Andorra</td>\n",
       "      <td>1800</td>\n",
       "      <td>NaN</td>\n",
       "    </tr>\n",
       "    <tr>\n",
       "      <th>4</th>\n",
       "      <td>Angola</td>\n",
       "      <td>1800</td>\n",
       "      <td>26.98</td>\n",
       "    </tr>\n",
       "    <tr>\n",
       "      <th>5</th>\n",
       "      <td>Antigua and Barbuda</td>\n",
       "      <td>1800</td>\n",
       "      <td>33.54</td>\n",
       "    </tr>\n",
       "    <tr>\n",
       "      <th>6</th>\n",
       "      <td>Argentina</td>\n",
       "      <td>1800</td>\n",
       "      <td>33.20</td>\n",
       "    </tr>\n",
       "    <tr>\n",
       "      <th>7</th>\n",
       "      <td>Armenia</td>\n",
       "      <td>1800</td>\n",
       "      <td>34.00</td>\n",
       "    </tr>\n",
       "    <tr>\n",
       "      <th>8</th>\n",
       "      <td>Australia</td>\n",
       "      <td>1800</td>\n",
       "      <td>34.05</td>\n",
       "    </tr>\n",
       "    <tr>\n",
       "      <th>9</th>\n",
       "      <td>Austria</td>\n",
       "      <td>1800</td>\n",
       "      <td>34.40</td>\n",
       "    </tr>\n",
       "  </tbody>\n",
       "</table>\n",
       "</div>"
      ],
      "text/plain": [
       "               country  year  life_expectancy\n",
       "0          Afghanistan  1800            28.21\n",
       "1              Albania  1800            35.40\n",
       "2              Algeria  1800            28.82\n",
       "3              Andorra  1800              NaN\n",
       "4               Angola  1800            26.98\n",
       "5  Antigua and Barbuda  1800            33.54\n",
       "6            Argentina  1800            33.20\n",
       "7              Armenia  1800            34.00\n",
       "8            Australia  1800            34.05\n",
       "9              Austria  1800            34.40"
      ]
     },
     "execution_count": 44,
     "metadata": {},
     "output_type": "execute_result"
    }
   ],
   "source": [
    "gapminder_melt.columns = ['country', 'year','life_expectancy']  # Renommer les colonnes,\n",
    "gapminder_melt.head(10)"
   ]
  },
  {
   "cell_type": "code",
   "execution_count": null,
   "metadata": {},
   "outputs": [],
   "source": []
  },
  {
   "cell_type": "code",
   "execution_count": 45,
   "metadata": {},
   "outputs": [
    {
     "name": "stdout",
     "output_type": "stream",
     "text": [
      "1 test passed.\n"
     ]
    }
   ],
   "source": [
    "Test.assertEquals(gapminder_melt.loc[4, 'life_expectancy'], 26.98)"
   ]
  },
  {
   "cell_type": "markdown",
   "metadata": {},
   "source": [
    "- Renommons `gapminder_melt` en `gapminder` "
   ]
  },
  {
   "cell_type": "code",
   "execution_count": 46,
   "metadata": {},
   "outputs": [],
   "source": [
    "gapminder = gapminder_melt"
   ]
  },
  {
   "cell_type": "markdown",
   "metadata": {},
   "source": [
    "- Afficher les types de `gapminder`. "
   ]
  },
  {
   "cell_type": "code",
   "execution_count": 47,
   "metadata": {},
   "outputs": [
    {
     "data": {
      "text/plain": [
       "country             object\n",
       "year                object\n",
       "life_expectancy    float64\n",
       "dtype: object"
      ]
     },
     "execution_count": 47,
     "metadata": {},
     "output_type": "execute_result"
    }
   ],
   "source": [
    "gapminder.dtypes"
   ]
  },
  {
   "cell_type": "markdown",
   "metadata": {},
   "source": [
    "**Question 3.2** : Le type associé à `year` n'est pas entier. Convertissez le à un entier en utilisant la méthode `to_numeric` de pandas, ou `astype`"
   ]
  },
  {
   "cell_type": "code",
   "execution_count": 48,
   "metadata": {},
   "outputs": [],
   "source": [
    "gapminder.year =gapminder.year.astype(int)"
   ]
  },
  {
   "cell_type": "code",
   "execution_count": 49,
   "metadata": {},
   "outputs": [
    {
     "name": "stdout",
     "output_type": "stream",
     "text": [
      "1 test passed.\n",
      "1 test passed.\n"
     ]
    }
   ],
   "source": [
    "Test.assertEqualsHashed(gapminder.country.dtype, '1615307cc4523f183e777df67f168c86908e8007')\n",
    "Test.assertEqualsHashed(gapminder.year.dtype, '3cf12f96228a3fa41a25040bdcc6eac3659e7844')"
   ]
  },
  {
   "cell_type": "markdown",
   "metadata": {},
   "source": [
    "**Question 3.3 (optionnelle)** Parfois les chaînes de caractères contiennent des caractères interdits, ou que l'on souhaite éviter afin de garantir un portabilité. Cette question vou smontre comment repérer des tels cas de figure. Elle utilise la notion d'expression régulière. Pour ceux qui ne connaissent pas, vous êtes invités à vous référer à l'excellent [Kit de survie Python](https://perso.esiee.fr/~bercherj/EL3029/Intro_Python.html#Expressions-régulières) et aux références fournies dans ce texte. "
   ]
  },
  {
   "cell_type": "markdown",
   "metadata": {},
   "source": [
    "- Extraire la colonne `country` de la table et supprimer les lignes dupliquées `.drop_duplicates()`\n",
    "- Rechercher, en utilisant une expression régulière, tous les noms de pays qui contiennent d'autres caractères que les lettres de l'alphabet, espaces, et point. \n",
    "\n",
    "La cellule suivante contient la racine des choses. "
   ]
  },
  {
   "cell_type": "code",
   "execution_count": 53,
   "metadata": {},
   "outputs": [
    {
     "name": "stdout",
     "output_type": "stream",
     "text": [
      "41     Cote d'Ivoire\n",
      "69     Guinea-Bissau\n",
      "176      Timor-Leste\n",
      "Name: country, dtype: object\n"
     ]
    },
    {
     "name": "stderr",
     "output_type": "stream",
     "text": [
      "<>:7: SyntaxWarning: invalid escape sequence '\\.'\n",
      "<>:7: SyntaxWarning: invalid escape sequence '\\.'\n",
      "/var/folders/pd/3rcrcz4d0f9cd_p_f3x_ll2r0000gn/T/ipykernel_27805/1270135150.py:7: SyntaxWarning: invalid escape sequence '\\.'\n",
      "  pattern = '^[A-Za-z\\.\\s]*$' ## FILL HERE ##\n"
     ]
    }
   ],
   "source": [
    "# Create the series of countries: countries\n",
    "countries = pd.Series(gapminder.country)\n",
    "# Drop all the duplicates from countries\n",
    "countries = countries.drop_duplicates()\n",
    "\n",
    "# Write the regular expression: pattern\n",
    "pattern = '^[A-Za-z\\.\\s]*$' ## FILL HERE ##\n",
    "\n",
    "# Create the Boolean vector: mask\n",
    "mask = countries.str.contains(pattern)\n",
    "\n",
    "# Invert the mask: mask_inverse\n",
    "mask_inverse = ~mask\n",
    "\n",
    "# Subset countries using mask_inverse: invalid_countries\n",
    "invalid_countries = countries[mask_inverse]\n",
    "\n",
    "# Print invalid_countries\n",
    "print(invalid_countries)\n"
   ]
  },
  {
   "cell_type": "markdown",
   "metadata": {},
   "source": [
    "Ensuite, on pourrait corriger tous les noms de pays en remplaçant les caractères interdits. On ne le fera pas ici. Personnellement, je remplacerais bien tous les espaces par des `_`. "
   ]
  },
  {
   "cell_type": "markdown",
   "metadata": {},
   "source": [
    "## Regroupement et exploitation\n",
    "\n",
    "Nous allons maintenant calculer des statistiques élémentaires sur des groupes. Le regroupement le plus simple est pas années. Il aurait été intéressant d'ajouter un traitement par région, ou par continent, mais la donnée n'est pas présente et ce sera donc pour une autre fois. "
   ]
  },
  {
   "cell_type": "markdown",
   "metadata": {},
   "source": [
    "**Question 4.1** Tracer un histogramme de l'espérance de vie. Utiliser la méthode `.plot` des dataframes ou `displot` de seaborn. "
   ]
  },
  {
   "cell_type": "code",
   "execution_count": 54,
   "metadata": {},
   "outputs": [
    {
     "data": {
      "text/plain": [
       "<Axes: ylabel='Frequency'>"
      ]
     },
     "execution_count": 54,
     "metadata": {},
     "output_type": "execute_result"
    },
    {
     "data": {
      "image/png": "[encoded data removed]",
      "text/plain": [
       "<Figure size 640x480 with 1 Axes>"
      ]
     },
     "metadata": {},
     "output_type": "display_data"
    }
   ],
   "source": [
    "gapminder.life_expectancy.plot(kind='hist')"
   ]
  },
  {
   "cell_type": "code",
   "execution_count": 55,
   "metadata": {},
   "outputs": [
    {
     "data": {
      "text/plain": [
       "<seaborn.axisgrid.FacetGrid at 0x1387f9e20>"
      ]
     },
     "execution_count": 55,
     "metadata": {},
     "output_type": "execute_result"
    },
    {
     "data": {
      "image/png": "[encoded data removed]",
      "text/plain": [
       "<Figure size 500x500 with 1 Axes>"
      ]
     },
     "metadata": {},
     "output_type": "display_data"
    }
   ],
   "source": [
    "sns.displot(gapminder.life_expectancy.dropna(), kind='hist', kde=True)#, element='step')"
   ]
  },
  {
   "cell_type": "markdown",
   "metadata": {},
   "source": [
    "**Question 4.2** \n",
    "En réfléchissant deux minutes, cet histogramme a-t-il vraiment un sens ? Ou du moins ne peut-on pas faire un peu mieux ? Tracer par exemple les histogrammes pour le 19e siècle (les années <1900) et pour le 20e siècle (donc les années supérieures à 1899 et inférieures à 2000), et encore pour le 21e (les années >1999)\n",
    "\n",
    "Pour cela, vous devrez filtrer les données. \n",
    "\n",
    "Voici pour le second item : \n",
    "```\n",
    "idx = (gapminder['year']>=1900) & (gapminder['year']<2000)\n",
    "gapminder[idx]\n",
    "```\n",
    "\n",
    "Si vous utilisez seaborn, celui-ci n'aime pas les données manquantes, et vous utiliserez un `dropna()` au passage."
   ]
  },
  {
   "cell_type": "code",
   "execution_count": 56,
   "metadata": {},
   "outputs": [],
   "source": [
    "# Read standard matplotlib colors in colors\n",
    "prop_cycle = plt.rcParams['axes.prop_cycle']\n",
    "colors = prop_cycle.by_key()['color']"
   ]
  },
  {
   "cell_type": "code",
   "execution_count": 57,
   "metadata": {},
   "outputs": [
    {
     "data": {
      "text/plain": [
       "<Axes: xlabel='life_expectancy', ylabel='Density'>"
      ]
     },
     "execution_count": 57,
     "metadata": {},
     "output_type": "execute_result"
    },
    {
     "data": {
      "image/png": "[encoded data removed]",
      "text/plain": [
       "<Figure size 640x480 with 1 Axes>"
      ]
     },
     "metadata": {},
     "output_type": "display_data"
    }
   ],
   "source": [
    "\n",
    "sns.histplot(gapminder[gapminder['year']<1900].life_expectancy.dropna(), kde=True, stat='density', color=colors[0])\n",
    "idx = (gapminder['year']>=1900) & (gapminder['year']<2000)\n",
    "sns.histplot(gapminder[idx].life_expectancy.dropna(),  kde=True, stat='density', color=colors[1])\n",
    "sns.histplot(gapminder[gapminder['year']>1999].life_expectancy.dropna(),  kde=True, stat='density', color=colors[2])"
   ]
  },
  {
   "cell_type": "code",
   "execution_count": 58,
   "metadata": {},
   "outputs": [
    {
     "data": {
      "text/plain": [
       "<Axes: xlabel='life_expectancy', ylabel='Density'>"
      ]
     },
     "execution_count": 58,
     "metadata": {},
     "output_type": "execute_result"
    },
    {
     "data": {
      "image/png": "[encoded data removed]",
      "text/plain": [
       "<Figure size 640x480 with 1 Axes>"
      ]
     },
     "metadata": {},
     "output_type": "display_data"
    }
   ],
   "source": [
    "sns.kdeplot(gapminder[gapminder['year']<1900].life_expectancy.dropna(),  fill=True)\n",
    "idx = (gapminder['year']>=1900) & (gapminder['year']<2000)\n",
    "sns.kdeplot(gapminder[idx].life_expectancy.dropna(), fill=True)\n",
    "sns.kdeplot(gapminder[gapminder['year']>1999].life_expectancy.dropna(), fill=True)"
   ]
  },
  {
   "cell_type": "markdown",
   "metadata": {},
   "source": [
    "- Une autre possibilité est de créer une colonne catégorielle, disons siecle, permettant de définir des intervalles (les siècles, donc) à partie de la colonne `year`. Pour cela, vous utiliserez la commande `pd.cut()` [doc](https://pandas.pydata.org/pandas-docs/stable/reference/api/pandas.cut.html)"
   ]
  },
  {
   "cell_type": "code",
   "execution_count": 59,
   "metadata": {},
   "outputs": [],
   "source": [
    "gapminder['siecle'] = pd.cut(gapminder['year'], [1799, 1899, 1999, 2100], labels=['19e', '20e', '21e' ])"
   ]
  },
  {
   "cell_type": "markdown",
   "metadata": {},
   "source": [
    "Vous pourrez ensuite utiliser `sns.distplot` en reprenant et adaptant ce bout de code\n",
    "```\n",
    "groups = iris.dropna().groupby('species')\n",
    "for l,group in groups:\n",
    "    sns.histplot(group['petal_length'], stat='density', label=l, color=colors[k])\n",
    "    k = k + 1\n",
    "plt.legend()\n",
    "```"
   ]
  },
  {
   "cell_type": "code",
   "execution_count": 60,
   "metadata": {},
   "outputs": [],
   "source": [
    "# On extrait la liste des couleurs de matplotlib\n",
    "prop_cycle = plt.rcParams['axes.prop_cycle']\n",
    "colors = prop_cycle.by_key()['color']"
   ]
  },
  {
   "cell_type": "code",
   "execution_count": 128,
   "metadata": {},
   "outputs": [
    {
     "data": {
      "text/plain": [
       "<matplotlib.legend.Legend at 0x7efd3cb89be0>"
      ]
     },
     "execution_count": 128,
     "metadata": {},
     "output_type": "execute_result"
    },
    {
     "data": {
      "image/png": "[encoded data removed]",
      "text/plain": [
       "<Figure size 432x288 with 1 Axes>"
      ]
     },
     "metadata": {
      "needs_background": "light"
     },
     "output_type": "display_data"
    }
   ],
   "source": [
    "k = 0\n",
    "groups = gapminder.dropna().groupby('siecle')\n",
    "for l,group in groups:\n",
    "    # fill here\n",
    "    k = k + 1\n",
    "plt.legend()"
   ]
  },
  {
   "cell_type": "markdown",
   "metadata": {},
   "source": [
    "**Question 4.3** On va maintenant regrouper les données par années et chercher à tracer l'évolution de l'espérance de vie moyenne en fonction du temps. \n",
    "\n",
    "- Utiliser la commande `.groupby()` pour regrouper par années, en créant une variable `gapminder_agg`, puis calculer la moyenne de `life_expectancy` sur ces groupes"
   ]
  },
  {
   "cell_type": "code",
   "execution_count": 63,
   "metadata": {},
   "outputs": [
    {
     "data": {
      "image/png": "[encoded data removed]",
      "text/plain": [
       "<Figure size 1000x600 with 1 Axes>"
      ]
     },
     "metadata": {},
     "output_type": "display_data"
    }
   ],
   "source": [
    "#%matplotlib widget\n",
    "# Group gapminder: gapminder_agg\n",
    "gapminder_agg = gapminder.groupby('year')['life_expectancy'].mean()\n",
    "\n",
    "plt.figure(figsize=(10,6))\n",
    "\n",
    "# Create a line plot of life expectancy per year\n",
    "gapminder_agg.plot()\n",
    "\n",
    "# Add title and specify axis labels\n",
    "plt.title('Life expectancy over the years')\n",
    "plt.ylabel('Life expectancy')\n",
    "plt.xlabel('Year')\n",
    "\n",
    "# Display the plots\n",
    "plt.tight_layout()\n",
    "plt.show()"
   ]
  },
  {
   "cell_type": "markdown",
   "metadata": {},
   "source": [
    "On peut donc voir l'évolution de la poulation mondiale et constater que l'expérance de vie moyenne mondiale dépasse maintenant les 70 ans ! Réponse à la question de l'introduction. A quoi sont liés les deux décrochements que l'on peut observer sur la courbe ?      "
   ]
  },
  {
   "cell_type": "markdown",
   "metadata": {},
   "source": [
    "Ceci n'est pas complètement juste dans la mesure où nous moyennons les espérances de vies par pays, alors que les pays en question n'ont pas les mêmes populations... \n",
    "\n",
    "On va essayer de faire mieux, ou au moins plus scientifique. Pour cela on peut compléter nos données avec des données récuérées sur le site gapminder.\n"
   ]
  }
 ],
 "metadata": {
  "hide_input": false,
  "kernelspec": {
   "display_name": "base",
   "language": "python",
   "name": "python3"
  },
  "language_info": {
   "codemirror_mode": {
    "name": "ipython",
    "version": 3
   },
   "file_extension": ".py",
   "mimetype": "text/x-python",
   "name": "python",
   "nbconvert_exporter": "python",
   "pygments_lexer": "ipython3",
   "version": "3.12.7"
  },
  "latex_envs": {
   "LaTeX_envs_menu_present": true,
   "autoclose": false,
   "autocomplete": true,
   "bibliofile": "latex_bib.bib",
   "cite_by": "apalike",
   "current_citInitial": 1,
   "eqLabelWithNumbers": true,
   "eqNumInitial": 1,
   "hotkeys": {
    "equation": "ctrl-e"
   },
   "labels_anchors": false,
   "latex_user_defs": false,
   "report_style_numbering": false,
   "user_envs_cfg": false
  },
  "nbTranslate": {
   "displayLangs": [
    "*"
   ],
   "hotkey": "alt-t",
   "langInMainMenu": true,
   "sourceLang": "en",
   "targetLang": "fr",
   "useGoogleTranslate": true
  },
  "toc": {
   "base_numbering": "1",
   "lock_sidebar": true,
   "nav_menu": {},
   "number_sections": true,
   "sideBar": true,
   "skip_h1_title": false,
   "title_cell": "Table of Contents",
   "title_sidebar": "Contents",
   "toc_cell": true,
   "toc_position": {
    "height": "calc(100% - 180px)",
    "left": "10px",
    "top": "150px",
    "width": "208px"
   },
   "toc_section_display": true,
   "toc_window_display": true
  },
  "varInspector": {
   "cols": {
    "lenName": 16,
    "lenType": 16,
    "lenVar": 40
   },
   "kernels_config": {
    "python": {
     "delete_cmd_postfix": "",
     "delete_cmd_prefix": "del ",
     "library": "var_list.py",
     "varRefreshCmd": "print(var_dic_list())"
    },
    "r": {
     "delete_cmd_postfix": ") ",
     "delete_cmd_prefix": "rm(",
     "library": "var_list.r",
     "varRefreshCmd": "cat(var_dic_list()) "
    }
   },
   "types_to_exclude": [
    "module",
    "function",
    "builtin_function_or_method",
    "instance",
    "_Feature"
   ],
   "window_display": false
  }
 },
 "nbformat": 4,
 "nbformat_minor": 2
}
